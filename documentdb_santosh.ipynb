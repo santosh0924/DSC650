{
 "cells": [
  {
   "cell_type": "code",
   "execution_count": 1,
   "id": "hollow-kansas",
   "metadata": {},
   "outputs": [],
   "source": [
    "from pathlib import Path\n",
    "import os\n",
    "import sqlite3\n",
    "\n",
    "import s3fs\n",
    "import pandas as pd\n",
    "\n",
    "current_dir = Path(os.getcwd()).absolute()\n",
    "results_dir = current_dir.joinpath('results')\n",
    "kv_data_dir = results_dir.joinpath('kvdb')\n",
    "kv_data_dir.mkdir(parents=True, exist_ok=True)\n",
    "\n",
    "def read_cluster_csv(file_path, endpoint_url='https://storage.budsc.midwest-datascience.com'):\n",
    "    s3 = s3fs.S3FileSystem(\n",
    "        anon=True,\n",
    "        client_kwargs={\n",
    "            'endpoint_url': endpoint_url\n",
    "        }\n",
    "    )\n",
    "    return pd.read_csv(s3.open(file_path, mode='rb'))"
   ]
  },
  {
   "cell_type": "code",
   "execution_count": 2,
   "id": "iraqi-error",
   "metadata": {},
   "outputs": [],
   "source": [
    "def create_measurements_table(conn):\n",
    "    sql = \"\"\"\n",
    "    CREATE TABLE IF NOT EXISTS measurements (\n",
    "        visit_id integer NOT NULL,\n",
    "        person_id text NOT NULL,\n",
    "        quantity text,\n",
    "        reading real,\n",
    "        FOREIGN KEY (visit_id) REFERENCES visits (visit_id),\n",
    "        FOREIGN KEY (person_id) REFERENCES people (people_id)\n",
    "        );\n",
    "    \"\"\"\n",
    "\n",
    "    c = conn.cursor()\n",
    "    c.execute(sql)\n",
    "    \n",
    "def load_measurements_table(conn):\n",
    "    create_measurements_table(conn)\n",
    "    df_m = read_cluster_csv('data/external/tidynomicon/measurements.csv')\n",
    "    measurements = df_m.values\n",
    "    c = conn.cursor()\n",
    "    c.execute('DELETE FROM measurements;') # Delete data if exists\n",
    "    c.executemany('INSERT INTO measurements VALUES (?,?,?,?)', measurements)"
   ]
  },
  {
   "cell_type": "code",
   "execution_count": 3,
   "id": "alpine-subject",
   "metadata": {},
   "outputs": [],
   "source": [
    "def create_people_table(conn):\n",
    "    sql = \"\"\"\n",
    "    CREATE TABLE IF NOT EXISTS people (\n",
    "        people_id text NOT NULL,\n",
    "        personal_name text,\n",
    "        family_name text\n",
    "        );\n",
    "    \"\"\"\n",
    "\n",
    "    c = conn.cursor()\n",
    "    c.execute(sql)\n",
    "    \n",
    "def load_people_table(conn):\n",
    "    create_people_table(conn)\n",
    "    df = read_cluster_csv('data/external/tidynomicon/person.csv')\n",
    "    people = df.values\n",
    "    c = conn.cursor()\n",
    "    c.execute('DELETE FROM people;') # Delete data if exists\n",
    "    c.executemany('INSERT INTO people VALUES (?,?,?)', people)"
   ]
  },
  {
   "cell_type": "code",
   "execution_count": 4,
   "id": "distinct-hospital",
   "metadata": {},
   "outputs": [],
   "source": [
    "def create_sites_table(conn):\n",
    "    sql = \"\"\"\n",
    "    CREATE TABLE IF NOT EXISTS sites (\n",
    "        site_id text PRIMARY KEY,\n",
    "        latitude double NOT NULL,\n",
    "        longitude double NOT NULL\n",
    "        );\n",
    "    \"\"\"\n",
    "\n",
    "    c = conn.cursor()\n",
    "    c.execute(sql)\n",
    "\n",
    "def load_sites_table(conn):\n",
    "    create_sites_table(conn)\n",
    "    df_s = read_cluster_csv('data/external/tidynomicon/site.csv')\n",
    "    sites = df_s.values\n",
    "    c = conn.cursor()\n",
    "    c.execute('DELETE FROM sites;') # Delete data if exists\n",
    "    c.executemany('INSERT INTO sites VALUES (?,?,?)', sites)"
   ]
  },
  {
   "cell_type": "code",
   "execution_count": 5,
   "id": "inner-legislature",
   "metadata": {},
   "outputs": [],
   "source": [
    "def create_visits_table(conn):\n",
    "    sql = \"\"\"\n",
    "    CREATE TABLE IF NOT EXISTS visits (\n",
    "        visit_id integer PRIMARY KEY,\n",
    "        site_id text NOT NULL,\n",
    "        visit_date text,\n",
    "        FOREIGN KEY (site_id) REFERENCES sites (site_id)\n",
    "        );\n",
    "    \"\"\"\n",
    "\n",
    "    c = conn.cursor()\n",
    "    c.execute(sql)\n",
    "\n",
    "def load_visits_table(conn):\n",
    "    create_visits_table(conn)\n",
    "    df_v = read_cluster_csv('data/external/tidynomicon/visited.csv')\n",
    "    visits = df_v.values\n",
    "    c = conn.cursor()\n",
    "    c.execute('DELETE FROM visits;') # Delete data if exists\n",
    "    c.executemany('INSERT INTO visits VALUES (?,?,?)', visits)"
   ]
  },
  {
   "cell_type": "code",
   "execution_count": 6,
   "id": "organized-taste",
   "metadata": {},
   "outputs": [
    {
     "name": "stdout",
     "output_type": "stream",
     "text": [
      "<built-in method fetchall of sqlite3.Cursor object at 0x7f63c19dadc0>\n"
     ]
    }
   ],
   "source": [
    "db_path = results_dir.joinpath('patient-info.db')\n",
    "conn = sqlite3.connect(str(db_path))\n",
    "\n",
    "load_people_table(conn) \n",
    "load_sites_table(conn)\n",
    "load_visits_table(conn)\n",
    "load_measurements_table(conn)\n",
    "\n",
    "sql = \"\"\"SELECT * FROM visits;\"\"\"\n",
    "\n",
    "c = conn.cursor()\n",
    "c.execute(sql)\n",
    "\n",
    "result = c.fetchall\n",
    "\n",
    "print(result)\n",
    "conn.commit()\n",
    "conn.close()"
   ]
  },
  {
   "cell_type": "code",
   "execution_count": null,
   "id": "remarkable-grade",
   "metadata": {},
   "outputs": [],
   "source": []
  }
 ],
 "metadata": {
  "kernelspec": {
   "display_name": "Python 3",
   "language": "python",
   "name": "python3"
  },
  "language_info": {
   "codemirror_mode": {
    "name": "ipython",
    "version": 3
   },
   "file_extension": ".py",
   "mimetype": "text/x-python",
   "name": "python",
   "nbconvert_exporter": "python",
   "pygments_lexer": "ipython3",
   "version": "3.8.8"
  }
 },
 "nbformat": 4,
 "nbformat_minor": 5
}
